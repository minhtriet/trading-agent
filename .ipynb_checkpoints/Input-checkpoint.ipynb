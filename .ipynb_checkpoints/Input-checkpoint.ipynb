{
 "cells": [
  {
   "cell_type": "code",
   "execution_count": 2,
   "metadata": {},
   "outputs": [],
   "source": [
    "import pandas as pd"
   ]
  },
  {
   "cell_type": "code",
   "execution_count": 23,
   "metadata": {},
   "outputs": [],
   "source": [
    "demands_files = ['input/Weimar_Lastgang 2015_Erdgasbezug.xlsx', \n",
    "                 'input/Weimar_Lastgang 2016_Erdgasbezug.xlsx', \n",
    "                 'input/Kiel_Lastgang_KVP_KJ2015_07062016.xlsx']"
   ]
  },
  {
   "cell_type": "code",
   "execution_count": 10,
   "metadata": {},
   "outputs": [],
   "source": [
    "def read_demand(file_name):\n",
    "    xls = pd.read_excel('input/Weimar_Lastgang 2015_Erdgasbezug.xlsx', sheet_name=None)\n",
    "    sheet_names = list(xls.keys())\n",
    "    demand = []\n",
    "    for sheet_name in sheet_names:\n",
    "        demand.append(xls[sheet_name].iloc[2:][['Unnamed: 16', 'Unnamed: 18']].values)"
   ]
  },
  {
   "cell_type": "code",
   "execution_count": 15,
   "metadata": {},
   "outputs": [],
   "source": [
    "def read_spot_market():\n",
    "    xls = pd.read_excel('input/Mappe1.xlsx', sheet_name=None)\n",
    "    xls['G_EEX_TRP'] = xls['G_EEX_TRP'].drop('Unnamed: 5', axis=1).iloc[1:]\n",
    "    xls['G_EEX_TRP'].columns = xls['G_EEX_TRP'].iloc[0]\n",
    "    xls['G_EEX_TRP'] = xls['G_EEX_TRP'].iloc[1:]"
   ]
  },
  {
   "cell_type": "code",
   "execution_count": 17,
   "metadata": {},
   "outputs": [],
   "source": [
    "def read_future_market():\n",
    "    xls = pd.read_excel('input/Mappe1.xlsx', sheet_name=None)\n",
    "    \n",
    "    xls['G_EEX_GPL'].columns = xls['G_EEX_GPL'].iloc[1]\n",
    "    xls['G_EEX_GPL'] = xls['G_EEX_GPL'].iloc[2:]\n",
    "    gpl = xls['G_EEX_GPL'].rename(columns={'Tradingday\\nHandelstag': 'Tradingday'})\n",
    "    \n",
    "    xls['G_EEX_NCG'].columns = xls['G_EEX_NCG'].iloc[1]\n",
    "    xls['G_EEX_NCG'] = xls['G_EEX_NCG'].iloc[2:]\n",
    "    ncg = xls['G_EEX_NCG'].rename(columns={'Tradingday\\nHandelstag': 'Tradingday'})\n",
    "\n",
    "    return gpl, ncg"
   ]
  },
  {
   "cell_type": "code",
   "execution_count": 76,
   "metadata": {},
   "outputs": [],
   "source": [
    "def read_demand():\n",
    "    f = demands_files[0]\n",
    "    xls = pd.read_excel(f, sheet_name=None)\n",
    "    for sheet in xls:\n",
    "        xls[sheet] = xls[sheet][['Unnamed: 16', 'Unnamed: 17']]    \n",
    "        xls[sheet].columns = xls[sheet].iloc[1]\n",
    "        xls[sheet] = xls[sheet].iloc[2:]\n",
    "    return pd.concat(xls.values(), sort=False, ignore_index=True)"
   ]
  }
 ],
 "metadata": {
  "kernelspec": {
   "display_name": "Python 3",
   "language": "python",
   "name": "python3"
  },
  "language_info": {
   "codemirror_mode": {
    "name": "ipython",
    "version": 3
   },
   "file_extension": ".py",
   "mimetype": "text/x-python",
   "name": "python",
   "nbconvert_exporter": "python",
   "pygments_lexer": "ipython3",
   "version": "3.6.5"
  }
 },
 "nbformat": 4,
 "nbformat_minor": 2
}
