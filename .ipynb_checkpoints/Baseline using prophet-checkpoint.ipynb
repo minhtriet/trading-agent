{
 "cells": [
  {
   "cell_type": "code",
   "execution_count": 1,
   "metadata": {},
   "outputs": [],
   "source": [
    "import pandas as pd\n",
    "import numpy as np\n",
    "import fbprophet as ph\n",
    "import matplotlib.pyplot as plt\n",
    "import datetime\n",
    "%matplotlib inline "
   ]
  },
  {
   "cell_type": "code",
   "execution_count": 2,
   "metadata": {},
   "outputs": [
    {
     "name": "stdout",
     "output_type": "stream",
     "text": [
      "trp.csv\n"
     ]
    }
   ],
   "source": [
    "dataSource = \"trp.csv\"\n",
    "print(dataSource)"
   ]
  },
  {
   "cell_type": "code",
   "execution_count": 3,
   "metadata": {},
   "outputs": [],
   "source": [
    "df = pd.read_csv(dataSource)"
   ]
  },
  {
   "cell_type": "code",
   "execution_count": 4,
   "metadata": {},
   "outputs": [
    {
     "data": {
      "text/plain": [
       "(2583, 7)"
      ]
     },
     "execution_count": 4,
     "metadata": {},
     "output_type": "execute_result"
    }
   ],
   "source": [
    "df.shape"
   ]
  },
  {
   "cell_type": "code",
   "execution_count": 5,
   "metadata": {},
   "outputs": [
    {
     "data": {
      "text/html": [
       "<div>\n",
       "<style scoped>\n",
       "    .dataframe tbody tr th:only-of-type {\n",
       "        vertical-align: middle;\n",
       "    }\n",
       "\n",
       "    .dataframe tbody tr th {\n",
       "        vertical-align: top;\n",
       "    }\n",
       "\n",
       "    .dataframe thead th {\n",
       "        text-align: right;\n",
       "    }\n",
       "</style>\n",
       "<table border=\"1\" class=\"dataframe\">\n",
       "  <thead>\n",
       "    <tr style=\"text-align: right;\">\n",
       "      <th></th>\n",
       "      <th>Unnamed: 0</th>\n",
       "      <th>Suchwert</th>\n",
       "      <th>3</th>\n",
       "      <th>NCG</th>\n",
       "      <th>GPL</th>\n",
       "      <th>TTF</th>\n",
       "      <th>Unnamed: 5</th>\n",
       "    </tr>\n",
       "  </thead>\n",
       "  <tbody>\n",
       "    <tr>\n",
       "      <th>0</th>\n",
       "      <td>0</td>\n",
       "      <td>Blatt</td>\n",
       "      <td>NaN</td>\n",
       "      <td>NCG</td>\n",
       "      <td>GPL</td>\n",
       "      <td>TTF</td>\n",
       "      <td>NaN</td>\n",
       "    </tr>\n",
       "    <tr>\n",
       "      <th>1</th>\n",
       "      <td>1</td>\n",
       "      <td>Tradingday\\r\\nHandelstag</td>\n",
       "      <td>Liefertag</td>\n",
       "      <td>NCG</td>\n",
       "      <td>GPL</td>\n",
       "      <td>TTF</td>\n",
       "      <td>NaN</td>\n",
       "    </tr>\n",
       "    <tr>\n",
       "      <th>2</th>\n",
       "      <td>2</td>\n",
       "      <td>2011-06-02 00:00:00</td>\n",
       "      <td>2011-06-03 00:00:00</td>\n",
       "      <td>22.99</td>\n",
       "      <td>23.3</td>\n",
       "      <td>22.77</td>\n",
       "      <td>NaN</td>\n",
       "    </tr>\n",
       "    <tr>\n",
       "      <th>3</th>\n",
       "      <td>3</td>\n",
       "      <td>2011-06-03 00:00:00</td>\n",
       "      <td>2011-06-04 00:00:00</td>\n",
       "      <td>22.96</td>\n",
       "      <td>21.75</td>\n",
       "      <td>22.75</td>\n",
       "      <td>NaN</td>\n",
       "    </tr>\n",
       "    <tr>\n",
       "      <th>4</th>\n",
       "      <td>4</td>\n",
       "      <td>2011-06-04 00:00:00</td>\n",
       "      <td>2011-06-05 00:00:00</td>\n",
       "      <td>22.97</td>\n",
       "      <td>22.69</td>\n",
       "      <td>22.75</td>\n",
       "      <td>NaN</td>\n",
       "    </tr>\n",
       "  </tbody>\n",
       "</table>\n",
       "</div>"
      ],
      "text/plain": [
       "   Unnamed: 0                  Suchwert                    3    NCG    GPL  \\\n",
       "0           0                     Blatt                  NaN    NCG    GPL   \n",
       "1           1  Tradingday\\r\\nHandelstag            Liefertag    NCG    GPL   \n",
       "2           2       2011-06-02 00:00:00  2011-06-03 00:00:00  22.99   23.3   \n",
       "3           3       2011-06-03 00:00:00  2011-06-04 00:00:00  22.96  21.75   \n",
       "4           4       2011-06-04 00:00:00  2011-06-05 00:00:00  22.97  22.69   \n",
       "\n",
       "     TTF Unnamed: 5  \n",
       "0    TTF        NaN  \n",
       "1    TTF        NaN  \n",
       "2  22.77        NaN  \n",
       "3  22.75        NaN  \n",
       "4  22.75        NaN  "
      ]
     },
     "execution_count": 5,
     "metadata": {},
     "output_type": "execute_result"
    }
   ],
   "source": [
    "df.head(5)"
   ]
  },
  {
   "cell_type": "code",
   "execution_count": 6,
   "metadata": {},
   "outputs": [],
   "source": [
    "df=df.drop([0, 1]).reset_index()\n",
    "df = df.rename(columns={'Suchwert': 'Tradingday', '3': 'Deliverday'})\n",
    "df=df.drop(['Unnamed: 5', 'Unnamed: 0', 'Tradingday'], axis=1)\n",
    "df=df.dropna()\n",
    "df.NCG = pd.to_numeric(df.NCG)\n",
    "df.GPL = pd.to_numeric(df.GPL)\n",
    "df.TTF = pd.to_numeric(df.TTF)\n",
    "df.Deliverday = pd.to_datetime(df.Deliverday)"
   ]
  },
  {
   "cell_type": "code",
   "execution_count": 7,
   "metadata": {},
   "outputs": [],
   "source": [
    "df_ncg = df[['Deliverday', 'NCG']]\n",
    "df_ncg = df_ncg.rename(columns={'Deliverday': 'ds', 'NCG': 'y'})"
   ]
  },
  {
   "cell_type": "code",
   "execution_count": 8,
   "metadata": {},
   "outputs": [],
   "source": [
    "df_ncg_1116 = df_ncg[df_ncg.ds < datetime.datetime(2016,12,31,0,0,0)]"
   ]
  },
  {
   "cell_type": "code",
   "execution_count": 9,
   "metadata": {},
   "outputs": [
    {
     "ename": "NameError",
     "evalue": "name 'df_ncg_1117' is not defined",
     "output_type": "error",
     "traceback": [
      "\u001b[1;31m---------------------------------------------------------------------------\u001b[0m",
      "\u001b[1;31mNameError\u001b[0m                                 Traceback (most recent call last)",
      "\u001b[1;32m<ipython-input-9-59cb8b5c27ad>\u001b[0m in \u001b[0;36m<module>\u001b[1;34m()\u001b[0m\n\u001b[0;32m      1\u001b[0m \u001b[1;31m# Training for ncg first\u001b[0m\u001b[1;33m\u001b[0m\u001b[1;33m\u001b[0m\u001b[0m\n\u001b[0;32m      2\u001b[0m \u001b[0mm_ncg\u001b[0m \u001b[1;33m=\u001b[0m \u001b[0mph\u001b[0m\u001b[1;33m.\u001b[0m\u001b[0mProphet\u001b[0m\u001b[1;33m(\u001b[0m\u001b[0mdaily_seasonality\u001b[0m\u001b[1;33m=\u001b[0m\u001b[1;32mTrue\u001b[0m\u001b[1;33m)\u001b[0m\u001b[1;33m\u001b[0m\u001b[0m\n\u001b[1;32m----> 3\u001b[1;33m \u001b[0mm_ncg\u001b[0m\u001b[1;33m.\u001b[0m\u001b[0mfit\u001b[0m\u001b[1;33m(\u001b[0m\u001b[0mdf_ncg_1117\u001b[0m\u001b[1;33m)\u001b[0m\u001b[1;33m\u001b[0m\u001b[0m\n\u001b[0m",
      "\u001b[1;31mNameError\u001b[0m: name 'df_ncg_1117' is not defined"
     ]
    }
   ],
   "source": [
    "# Training for ncg first\n",
    "m_ncg = ph.Prophet(daily_seasonality=True)\n",
    "m_ncg.fit(df_ncg_1116)"
   ]
  },
  {
   "cell_type": "code",
   "execution_count": null,
   "metadata": {},
   "outputs": [],
   "source": [
    "future_ncg = m_ncg.make_future_dataframe(freq='D',periods=365*2)\n",
    "forecast_ncg= m_ncg.predict(future_ncg)"
   ]
  },
  {
   "cell_type": "code",
   "execution_count": null,
   "metadata": {},
   "outputs": [],
   "source": [
    "fig = m_ncg.plot(forecast_ncg, xlabel='Year', ylabel='Price')\n",
    "df_ncg.plot(x='ds', y='y', ax=fig.axes[0], colormap='autumn')"
   ]
  },
  {
   "cell_type": "code",
   "execution_count": null,
   "metadata": {},
   "outputs": [],
   "source": [
    "component_fig = m_ncg.plot_components(forecast_ncg)"
   ]
  }
 ],
 "metadata": {
  "kernelspec": {
   "display_name": "Python 3",
   "language": "python",
   "name": "python3"
  },
  "language_info": {
   "codemirror_mode": {
    "name": "ipython",
    "version": 3
   },
   "file_extension": ".py",
   "mimetype": "text/x-python",
   "name": "python",
   "nbconvert_exporter": "python",
   "pygments_lexer": "ipython3",
   "version": "3.6.4"
  }
 },
 "nbformat": 4,
 "nbformat_minor": 1
}
