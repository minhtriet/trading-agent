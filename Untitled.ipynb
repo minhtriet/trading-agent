{
 "cells": [
  {
   "cell_type": "code",
   "execution_count": 32,
   "metadata": {},
   "outputs": [],
   "source": [
    "import util"
   ]
  },
  {
   "cell_type": "code",
   "execution_count": 33,
   "metadata": {},
   "outputs": [],
   "source": [
    "a, b= util.read_future_market()"
   ]
  },
  {
   "cell_type": "code",
   "execution_count": 36,
   "metadata": {},
   "outputs": [
    {
     "data": {
      "text/plain": [
       "datetime.datetime(2011, 1, 3, 0, 0)"
      ]
     },
     "execution_count": 36,
     "metadata": {},
     "output_type": "execute_result"
    }
   ],
   "source": [
    "(a.Tradingday.iloc[0])"
   ]
  },
  {
   "cell_type": "code",
   "execution_count": 1,
   "metadata": {},
   "outputs": [],
   "source": [
    "q = [(1, 2004),(2, 2004),(3, 2004),(4, 2004),(1, 2005),]"
   ]
  },
  {
   "cell_type": "code",
   "execution_count": 2,
   "metadata": {},
   "outputs": [],
   "source": [
    "import pandas as pd"
   ]
  },
  {
   "cell_type": "code",
   "execution_count": 6,
   "metadata": {},
   "outputs": [],
   "source": [
    "a = pd.Period(freq='Q-JUL', year=2006, quarter=1)"
   ]
  },
  {
   "cell_type": "code",
   "execution_count": 9,
   "metadata": {},
   "outputs": [
    {
     "data": {
      "text/plain": [
       "'2006-Q1'"
      ]
     },
     "execution_count": 9,
     "metadata": {},
     "output_type": "execute_result"
    }
   ],
   "source": [
    "a.strftime('%F-Q%q')"
   ]
  },
  {
   "cell_type": "code",
   "execution_count": 10,
   "metadata": {},
   "outputs": [
    {
     "data": {
      "text/plain": [
       "'31-10-05'"
      ]
     },
     "execution_count": 10,
     "metadata": {},
     "output_type": "execute_result"
    }
   ],
   "source": [
    "a.strftime('%d-%m-%y')"
   ]
  },
  {
   "cell_type": "code",
   "execution_count": 8,
   "metadata": {},
   "outputs": [
    {
     "data": {
      "text/plain": [
       "'Oct-2005'"
      ]
     },
     "execution_count": 8,
     "metadata": {},
     "output_type": "execute_result"
    }
   ],
   "source": [
    "a.strftime('%b-%Y')"
   ]
  },
  {
   "cell_type": "code",
   "execution_count": 19,
   "metadata": {},
   "outputs": [],
   "source": [
    "b = pd.Period(freq='D', year=2006, quarter=1)\n",
    "b1 = pd.Period(freq='D', year=2006, quarter=2)"
   ]
  },
  {
   "cell_type": "code",
   "execution_count": 20,
   "metadata": {},
   "outputs": [
    {
     "name": "stdout",
     "output_type": "stream",
     "text": [
      "01-01-06\n",
      "01-04-06\n"
     ]
    }
   ],
   "source": [
    "print(b.strftime('%d-%m-%y'))\n",
    "print(b1.strftime('%d-%m-%y'))\n"
   ]
  },
  {
   "cell_type": "code",
   "execution_count": 21,
   "metadata": {},
   "outputs": [
    {
     "data": {
      "text/plain": [
       "90"
      ]
     },
     "execution_count": 21,
     "metadata": {},
     "output_type": "execute_result"
    }
   ],
   "source": [
    "b1-b"
   ]
  },
  {
   "cell_type": "code",
   "execution_count": 26,
   "metadata": {},
   "outputs": [
    {
     "data": {
      "text/plain": [
       "datetime.datetime(2018, 7, 20, 14, 41, 20, 2319)"
      ]
     },
     "execution_count": 26,
     "metadata": {},
     "output_type": "execute_result"
    }
   ],
   "source": [
    "pd.datetime.today()"
   ]
  },
  {
   "cell_type": "code",
   "execution_count": 22,
   "metadata": {},
   "outputs": [],
   "source": [
    "datelist = pd.date_range(pd.datetime.today(), periods=100).tolist()"
   ]
  },
  {
   "cell_type": "code",
   "execution_count": 37,
   "metadata": {},
   "outputs": [],
   "source": [
    "pd.date_range?"
   ]
  },
  {
   "cell_type": "code",
   "execution_count": 30,
   "metadata": {},
   "outputs": [],
   "source": [
    "temp = dict(zip(datelist, [0]*len(datelist)))"
   ]
  },
  {
   "cell_type": "code",
   "execution_count": 31,
   "metadata": {},
   "outputs": [
    {
     "data": {
      "text/plain": [
       "dict_keys([Timestamp('2018-07-20 14:40:43.904319', freq='D'), Timestamp('2018-07-21 14:40:43.904319', freq='D'), Timestamp('2018-07-22 14:40:43.904319', freq='D'), Timestamp('2018-07-23 14:40:43.904319', freq='D'), Timestamp('2018-07-24 14:40:43.904319', freq='D'), Timestamp('2018-07-25 14:40:43.904319', freq='D'), Timestamp('2018-07-26 14:40:43.904319', freq='D'), Timestamp('2018-07-27 14:40:43.904319', freq='D'), Timestamp('2018-07-28 14:40:43.904319', freq='D'), Timestamp('2018-07-29 14:40:43.904319', freq='D'), Timestamp('2018-07-30 14:40:43.904319', freq='D'), Timestamp('2018-07-31 14:40:43.904319', freq='D'), Timestamp('2018-08-01 14:40:43.904319', freq='D'), Timestamp('2018-08-02 14:40:43.904319', freq='D'), Timestamp('2018-08-03 14:40:43.904319', freq='D'), Timestamp('2018-08-04 14:40:43.904319', freq='D'), Timestamp('2018-08-05 14:40:43.904319', freq='D'), Timestamp('2018-08-06 14:40:43.904319', freq='D'), Timestamp('2018-08-07 14:40:43.904319', freq='D'), Timestamp('2018-08-08 14:40:43.904319', freq='D'), Timestamp('2018-08-09 14:40:43.904319', freq='D'), Timestamp('2018-08-10 14:40:43.904319', freq='D'), Timestamp('2018-08-11 14:40:43.904319', freq='D'), Timestamp('2018-08-12 14:40:43.904319', freq='D'), Timestamp('2018-08-13 14:40:43.904319', freq='D'), Timestamp('2018-08-14 14:40:43.904319', freq='D'), Timestamp('2018-08-15 14:40:43.904319', freq='D'), Timestamp('2018-08-16 14:40:43.904319', freq='D'), Timestamp('2018-08-17 14:40:43.904319', freq='D'), Timestamp('2018-08-18 14:40:43.904319', freq='D'), Timestamp('2018-08-19 14:40:43.904319', freq='D'), Timestamp('2018-08-20 14:40:43.904319', freq='D'), Timestamp('2018-08-21 14:40:43.904319', freq='D'), Timestamp('2018-08-22 14:40:43.904319', freq='D'), Timestamp('2018-08-23 14:40:43.904319', freq='D'), Timestamp('2018-08-24 14:40:43.904319', freq='D'), Timestamp('2018-08-25 14:40:43.904319', freq='D'), Timestamp('2018-08-26 14:40:43.904319', freq='D'), Timestamp('2018-08-27 14:40:43.904319', freq='D'), Timestamp('2018-08-28 14:40:43.904319', freq='D'), Timestamp('2018-08-29 14:40:43.904319', freq='D'), Timestamp('2018-08-30 14:40:43.904319', freq='D'), Timestamp('2018-08-31 14:40:43.904319', freq='D'), Timestamp('2018-09-01 14:40:43.904319', freq='D'), Timestamp('2018-09-02 14:40:43.904319', freq='D'), Timestamp('2018-09-03 14:40:43.904319', freq='D'), Timestamp('2018-09-04 14:40:43.904319', freq='D'), Timestamp('2018-09-05 14:40:43.904319', freq='D'), Timestamp('2018-09-06 14:40:43.904319', freq='D'), Timestamp('2018-09-07 14:40:43.904319', freq='D'), Timestamp('2018-09-08 14:40:43.904319', freq='D'), Timestamp('2018-09-09 14:40:43.904319', freq='D'), Timestamp('2018-09-10 14:40:43.904319', freq='D'), Timestamp('2018-09-11 14:40:43.904319', freq='D'), Timestamp('2018-09-12 14:40:43.904319', freq='D'), Timestamp('2018-09-13 14:40:43.904319', freq='D'), Timestamp('2018-09-14 14:40:43.904319', freq='D'), Timestamp('2018-09-15 14:40:43.904319', freq='D'), Timestamp('2018-09-16 14:40:43.904319', freq='D'), Timestamp('2018-09-17 14:40:43.904319', freq='D'), Timestamp('2018-09-18 14:40:43.904319', freq='D'), Timestamp('2018-09-19 14:40:43.904319', freq='D'), Timestamp('2018-09-20 14:40:43.904319', freq='D'), Timestamp('2018-09-21 14:40:43.904319', freq='D'), Timestamp('2018-09-22 14:40:43.904319', freq='D'), Timestamp('2018-09-23 14:40:43.904319', freq='D'), Timestamp('2018-09-24 14:40:43.904319', freq='D'), Timestamp('2018-09-25 14:40:43.904319', freq='D'), Timestamp('2018-09-26 14:40:43.904319', freq='D'), Timestamp('2018-09-27 14:40:43.904319', freq='D'), Timestamp('2018-09-28 14:40:43.904319', freq='D'), Timestamp('2018-09-29 14:40:43.904319', freq='D'), Timestamp('2018-09-30 14:40:43.904319', freq='D'), Timestamp('2018-10-01 14:40:43.904319', freq='D'), Timestamp('2018-10-02 14:40:43.904319', freq='D'), Timestamp('2018-10-03 14:40:43.904319', freq='D'), Timestamp('2018-10-04 14:40:43.904319', freq='D'), Timestamp('2018-10-05 14:40:43.904319', freq='D'), Timestamp('2018-10-06 14:40:43.904319', freq='D'), Timestamp('2018-10-07 14:40:43.904319', freq='D'), Timestamp('2018-10-08 14:40:43.904319', freq='D'), Timestamp('2018-10-09 14:40:43.904319', freq='D'), Timestamp('2018-10-10 14:40:43.904319', freq='D'), Timestamp('2018-10-11 14:40:43.904319', freq='D'), Timestamp('2018-10-12 14:40:43.904319', freq='D'), Timestamp('2018-10-13 14:40:43.904319', freq='D'), Timestamp('2018-10-14 14:40:43.904319', freq='D'), Timestamp('2018-10-15 14:40:43.904319', freq='D'), Timestamp('2018-10-16 14:40:43.904319', freq='D'), Timestamp('2018-10-17 14:40:43.904319', freq='D'), Timestamp('2018-10-18 14:40:43.904319', freq='D'), Timestamp('2018-10-19 14:40:43.904319', freq='D'), Timestamp('2018-10-20 14:40:43.904319', freq='D'), Timestamp('2018-10-21 14:40:43.904319', freq='D'), Timestamp('2018-10-22 14:40:43.904319', freq='D'), Timestamp('2018-10-23 14:40:43.904319', freq='D'), Timestamp('2018-10-24 14:40:43.904319', freq='D'), Timestamp('2018-10-25 14:40:43.904319', freq='D'), Timestamp('2018-10-26 14:40:43.904319', freq='D'), Timestamp('2018-10-27 14:40:43.904319', freq='D')])"
      ]
     },
     "execution_count": 31,
     "metadata": {},
     "output_type": "execute_result"
    }
   ],
   "source": [
    "temp.keys()"
   ]
  }
 ],
 "metadata": {
  "kernelspec": {
   "display_name": "Python 3",
   "language": "python",
   "name": "python3"
  },
  "language_info": {
   "codemirror_mode": {
    "name": "ipython",
    "version": 3
   },
   "file_extension": ".py",
   "mimetype": "text/x-python",
   "name": "python",
   "nbconvert_exporter": "python",
   "pygments_lexer": "ipython3",
   "version": "3.6.5"
  }
 },
 "nbformat": 4,
 "nbformat_minor": 2
}
